{
 "cells": [
  {
   "cell_type": "markdown",
   "id": "74a8054b-040f-4c1e-988f-59863e8b7fcb",
   "metadata": {},
   "source": [
    "# Data Science Tools and Ecosystem"
   ]
  },
  {
   "cell_type": "markdown",
   "id": "039abf4c-e5ef-4eb6-89cf-995d90273979",
   "metadata": {},
   "source": [
    "In this notebook, Data Science Tools and Ecosystem are summarized."
   ]
  },
  {
   "cell_type": "markdown",
   "id": "608b1307-b6b6-4a11-a4b7-b81cb7527193",
   "metadata": {},
   "source": [
    "Some of the popular languages that Data Scientists use are:\n",
    "1. R\n",
    "2. Python\n",
    "3. C++"
   ]
  },
  {
   "cell_type": "markdown",
   "id": "76d2ede0-3900-4696-8c84-f6f8a761aa4b",
   "metadata": {},
   "source": [
    "Some of the commonly used libraries used by Data Scientists include:\n",
    "1. ggplot in R\n",
    "2. dplyr in R\n",
    "3. pandasin Python\n",
    "4. sklearn in Python\n",
    "5. OpenCV in C++\n",
    "6. Dlib in C++"
   ]
  },
  {
   "cell_type": "markdown",
   "id": "79993277-7629-4dc4-85d3-0afd77420c20",
   "metadata": {},
   "source": [
    "| Data Science Tools|\n",
    "|---|\n",
    "|Jupyter Notebooks|\n",
    "|RStudio|\n",
    "|Anaconda|"
   ]
  },
  {
   "cell_type": "markdown",
   "id": "b682289d-8cb9-4d05-882e-3dd158d0091e",
   "metadata": {},
   "source": [
    "**Objectives:**\n",
    "- Learn how to create new Jupyter Notebook and change its name\n",
    "- Learn how to create markdowns, in particular:\n",
    "  - headers\n",
    "  - bold text\n",
    "  - tables\n",
    "- Learn how to multiply and print the results"
   ]
  },
  {
   "cell_type": "markdown",
   "id": "0ea6cde0-6733-40f9-8ae8-2b0cd617f048",
   "metadata": {},
   "source": [
    "### Below are a few examples of evaluating arithmetic expressions in Python."
   ]
  },
  {
   "cell_type": "code",
   "execution_count": 2,
   "id": "65bc082a-c1a4-41c1-b195-a527105f50f5",
   "metadata": {
    "tags": []
   },
   "outputs": [
    {
     "data": {
      "text/plain": [
       "17"
      ]
     },
     "execution_count": 2,
     "metadata": {},
     "output_type": "execute_result"
    }
   ],
   "source": [
    "#This a simple arithmetic expression to mutiply then add integers.\n",
    "(3*4)+5"
   ]
  },
  {
   "cell_type": "code",
   "execution_count": 4,
   "id": "5d456802-1593-4ee3-a874-b41f0f252963",
   "metadata": {
    "tags": []
   },
   "outputs": [
    {
     "name": "stdout",
     "output_type": "stream",
     "text": [
      "3.3333333333333335\n"
     ]
    }
   ],
   "source": [
    "#This will convert 200 minutes to hours by diving by 60\n",
    "minutes = 200\n",
    "hours = minutes / 60\n",
    "print(hours)"
   ]
  },
  {
   "cell_type": "markdown",
   "id": "ee12545a-8b47-49fb-b0d7-d09b2be15841",
   "metadata": {},
   "source": [
    "## Author \n",
    "Jaroslaw Czarny"
   ]
  },
  {
   "cell_type": "code",
   "execution_count": null,
   "id": "6dc8e6ae-28e4-4fed-855c-b787e137a53f",
   "metadata": {},
   "outputs": [],
   "source": []
  }
 ],
 "metadata": {
  "kernelspec": {
   "display_name": "Python",
   "language": "python",
   "name": "conda-env-python-py"
  },
  "language_info": {
   "codemirror_mode": {
    "name": "ipython",
    "version": 3
   },
   "file_extension": ".py",
   "mimetype": "text/x-python",
   "name": "python",
   "nbconvert_exporter": "python",
   "pygments_lexer": "ipython3",
   "version": "3.7.12"
  }
 },
 "nbformat": 4,
 "nbformat_minor": 5
}
